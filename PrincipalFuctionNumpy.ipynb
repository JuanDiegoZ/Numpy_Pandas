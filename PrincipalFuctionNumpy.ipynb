{
 "cells": [
  {
   "cell_type": "code",
   "execution_count": 7,
   "metadata": {},
   "outputs": [
    {
     "data": {
      "text/plain": [
       "0"
      ]
     },
     "execution_count": 7,
     "metadata": {},
     "output_type": "execute_result"
    }
   ],
   "source": [
    "import numpy as np\n",
    "arr = np.array([13, 6, 3, 5, 10])\n",
    "np.argmax(arr)"
   ]
  },
  {
   "cell_type": "code",
   "execution_count": 16,
   "metadata": {},
   "outputs": [
    {
     "name": "stdout",
     "output_type": "stream",
     "text": [
      "[[16  6 17]\n",
      " [12  6 11]\n",
      " [14 10 12]]\n"
     ]
    },
    {
     "data": {
      "text/plain": [
       "array([16, 10, 17])"
      ]
     },
     "execution_count": 16,
     "metadata": {},
     "output_type": "execute_result"
    }
   ],
   "source": [
    "arr = np.random.randint(1,20,(3,3))\n"
   ]
  },
  {
   "cell_type": "markdown",
   "metadata": {},
   "source": [
    "MAX FUCTION"
   ]
  },
  {
   "cell_type": "code",
   "execution_count": 29,
   "metadata": {},
   "outputs": [
    {
     "name": "stdout",
     "output_type": "stream",
     "text": [
      "[[16  6 17]\n",
      " [12  6 11]\n",
      " [14 10 12]]\n"
     ]
    },
    {
     "data": {
      "text/plain": [
       "2"
      ]
     },
     "execution_count": 29,
     "metadata": {},
     "output_type": "execute_result"
    }
   ],
   "source": [
    "print(arr)\n",
    "arr.max()\n",
    "#Max in a row\n",
    "arr.max(1)\n",
    "#Max in a column.\n",
    "arr.max(0)\n",
    "#Position max element.\n",
    "arr.argmax()"
   ]
  },
  {
   "cell_type": "markdown",
   "metadata": {},
   "source": [
    "MIN VALUE.\n"
   ]
  },
  {
   "cell_type": "code",
   "execution_count": 33,
   "metadata": {},
   "outputs": [
    {
     "name": "stdout",
     "output_type": "stream",
     "text": [
      "[[16  6 17]\n",
      " [12  6 11]\n",
      " [14 10 12]]\n"
     ]
    },
    {
     "data": {
      "text/plain": [
       "1"
      ]
     },
     "execution_count": 33,
     "metadata": {},
     "output_type": "execute_result"
    }
   ],
   "source": [
    "print(arr)\n",
    "arr.min()\n",
    "#Min a row\n",
    "arr.min(1)\n",
    "#Min in a column.\n",
    "arr.min(0)\n",
    "#Position min element.\n",
    "arr.argmin()"
   ]
  },
  {
   "cell_type": "markdown",
   "metadata": {},
   "source": [
    "Distance in the max and min value"
   ]
  },
  {
   "cell_type": "code",
   "execution_count": 39,
   "metadata": {},
   "outputs": [
    {
     "name": "stdout",
     "output_type": "stream",
     "text": [
      "[[16  6 17]\n",
      " [12  6 11]\n",
      " [14 10 12]]\n"
     ]
    },
    {
     "data": {
      "text/plain": [
       "array([11,  6,  4])"
      ]
     },
     "execution_count": 39,
     "metadata": {},
     "output_type": "execute_result"
    }
   ],
   "source": [
    "print(arr)\n",
    "arr.ptp()\n",
    "#In a column\n",
    "arr.ptp(0)\n",
    "# in a row\n",
    "arr.ptp(1)"
   ]
  },
  {
   "cell_type": "markdown",
   "metadata": {},
   "source": [
    "Análisis estadistico.\n"
   ]
  },
  {
   "cell_type": "markdown",
   "metadata": {},
   "source": [
    "\n",
    "Ordenar elementos."
   ]
  },
  {
   "cell_type": "code",
   "execution_count": 67,
   "metadata": {},
   "outputs": [
    {
     "name": "stdout",
     "output_type": "stream",
     "text": [
      "[14  3  6  8 14  6  4  2 18  3 18 18  3 15 19 15 10  9  2 17]\n"
     ]
    },
    {
     "data": {
      "text/plain": [
       "array([ 2,  2,  3,  3,  3,  4,  6,  6,  8,  9, 10, 14, 14, 15, 15, 17, 18,\n",
       "       18, 18, 19])"
      ]
     },
     "execution_count": 67,
     "metadata": {},
     "output_type": "execute_result"
    }
   ],
   "source": [
    "arr = np.random.randint(1,20,(20))\n",
    "print(arr)\n",
    "arr_ordenado = np.sort(arr)\n",
    "arr_ordenado"
   ]
  },
  {
   "cell_type": "code",
   "execution_count": 68,
   "metadata": {},
   "outputs": [
    {
     "data": {
      "text/plain": [
       "10.2"
      ]
     },
     "execution_count": 68,
     "metadata": {},
     "output_type": "execute_result"
    }
   ],
   "source": [
    "#get a percentile.\n",
    "np.percentile(arr, 0)\n",
    "#get a median\n",
    "np.median(arr)\n",
    "#get a standard deviation.\n",
    "np.std(arr)\n",
    "#get a variance.\n",
    "np.var(arr)\n",
    "#get a  average.\n",
    "np.mean(arr) \n"
   ]
  }
 ],
 "metadata": {
  "kernelspec": {
   "display_name": "Python 3.10.6 ('venv': venv)",
   "language": "python",
   "name": "python3"
  },
  "language_info": {
   "codemirror_mode": {
    "name": "ipython",
    "version": 3
   },
   "file_extension": ".py",
   "mimetype": "text/x-python",
   "name": "python",
   "nbconvert_exporter": "python",
   "pygments_lexer": "ipython3",
   "version": "3.10.6"
  },
  "orig_nbformat": 4,
  "vscode": {
   "interpreter": {
    "hash": "70e7ed54c01549baa477a02815acc02161c9e1a9508b8654f698938f9b029441"
   }
  }
 },
 "nbformat": 4,
 "nbformat_minor": 2
}
