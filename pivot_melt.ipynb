{
 "cells": [
  {
   "cell_type": "markdown",
   "metadata": {},
   "source": [
    "Hola, te doy la bienvenida a la clase de pivot_table y melt, dos funciones que sirven para cambiar la estructura de nuestro DataFrame de acuerdo a nuestras necesidades.\n",
    "\n",
    "pivot_table\n",
    "Esta función puede traer recuerdos a las personas interesadas en el mundo del SQL, ya que Oracle, PostgreSQL y otros motores de bases de datos la tienen implementada desde hace muchos años. Pivot, básicamente, transforma los valores de determinadas columnas o filas en los índices de un nuevo DataFrame, y la intersección de estos es el valor resultante.\n",
    "\n",
    "Entiendo que esto puede sonar algo confuso, pero no te preocupes, todo queda mucho más claro con un ejemplo.\n",
    "\n",
    "Para comenzar, crea un nuevo Jupyter Notebooks, puedes usar Google Colab o la notebook de tu preferencia que estés utilizando para este curso.\n",
    "\n",
    "Carga el DataFrame que hemos usado en el curso:\n",
    "\n",
    "df_books = pd.read_csv('bestsellers with categories.csv',sep=',',header=0)\n",
    "Explóralo viendo sus primeras 5 filas:\n",
    "df_books.head()\n",
    "Aplica pivot_table:\n",
    "df_books.pivot_table(index='Author',columns='Genre',values='User Rating')\n",
    "image5.png\n",
    "Como resultado, los valores de Author pasan a formar el índice por fila y los valores de Genre pasan a formar parte de los índices por columna, y el User Rating se mantiene como valor.\n",
    "\n",
    "image4.png\n",
    "Por supuesto, para este caso, un Author suele tener un solo género literario, así que no es una transformación muy útil, pero veamos si podemos lograr algo mejor.\n",
    "\n",
    "Ejecuta la siguiente variación:\n",
    "df_books.pivot_table(index='Genre',columns='Year', values='User Rating',aggfunc='sum')\n",
    "En este caso tenemos por cada género, la suma a lo largo de los años. Esto es mucho más interesante, ¿verdad? La mejor noticia es que no solo podemos obtener la suma, también podemos obtener la media, la desviación estándar, el conteo, la varianza, etc. Únicamente con cambiar el parámetro aggfunc que traduce función de agrupamiento.\n",
    "\n",
    "image6.png\n",
    "melt\n",
    "El método melt toma las columnas del DataFrame y las pasa a filas, con dos nuevas columnas para especificar la antigua columna y el valor que traía.\n",
    "\n",
    "Por ejemplo, simplemente al imprimir las cinco primeras filas del DataFrame con las columnas de Name y Genre se tiene este resultado.\n",
    "\n",
    "Para ello ejecuta la siguiente línea en tu Jupyter Notebook:\n",
    "df_books[['Name','Genre']].head(5)\n",
    "image2.png\n",
    "Aplica melt de la siguiente manera:\n",
    "df_books[['Name','Genre']].head(5).melt()\n",
    "image1.png\n",
    "Ahora cada resultado de las dos columnas pasa a una fila de este modo a tipo llave:valor.\n",
    "\n",
    "En el siguiente ejemplo ejecutemos melt de esta manera:\n",
    "df_books.melt(id_vars='Year',value_vars='Genre')\n",
    "image3.png\n",
    "Simplemente, podemos seleccionar las columnas que no quiero hacer melt usando el parámetro id_vars. Para este caso Year y también la única columna que quiero aplicar el melt, para este caso Genre con la propiedad value_vars.\n",
    "\n",
    "Hemos conocido pivot y melt, dos herramientas muy útiles para manipular nuestros DataFrames.\n",
    "\n",
    "Te espero en la siguiente clase donde conoceremos cómo utilizar Apply."
   ]
  }
 ],
 "metadata": {
  "kernelspec": {
   "display_name": "Python 3.10.6 64-bit",
   "language": "python",
   "name": "python3"
  },
  "language_info": {
   "codemirror_mode": {
    "name": "ipython",
    "version": 3
   },
   "file_extension": ".py",
   "mimetype": "text/x-python",
   "name": "python",
   "nbconvert_exporter": "python",
   "pygments_lexer": "ipython3",
   "version": "3.10.6"
  },
  "orig_nbformat": 4,
  "vscode": {
   "interpreter": {
    "hash": "916dbcbb3f70747c44a77c7bcd40155683ae19c65e1c03b4aa3499c5328201f1"
   }
  }
 },
 "nbformat": 4,
 "nbformat_minor": 2
}
